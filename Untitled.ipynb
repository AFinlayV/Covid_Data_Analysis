{
 "cells": [
  {
   "cell_type": "code",
   "execution_count": 1,
   "metadata": {},
   "outputs": [],
   "source": [
    "import pandas as pd\n",
    "import urllib\n",
    "import matplotlib.pyplot as plt"
   ]
  },
  {
   "cell_type": "code",
   "execution_count": 2,
   "metadata": {},
   "outputs": [],
   "source": [
    "def load_data():\n",
    "\n",
    "    url = f'https://covidtracking.com/api/v1/states/current.json'\n",
    "    uh = urllib.request.urlopen(url)\n",
    "    data = uh.read().decode()\n",
    "    file = open('covid_data_current.json', 'w')\n",
    "    file.write(data)\n",
    "    file.close()\n",
    "\n",
    "    url = f'https://covidtracking.com/api/v1/states/daily.json'\n",
    "    uh = urllib.request.urlopen(url)\n",
    "    data = uh.read().decode()\n",
    "    file = open('covid_data_ts.json', 'w')\n",
    "    file.write(data)\n",
    "    file.close()\n",
    "\n",
    "    data_ts = pd.read_json('covid_data_ts.json')\n",
    "    data_ts['date'] =  pd.to_datetime(data_ts['date'], format='%Y%m%d', errors='ignore')\n",
    "\n",
    "    data_cur = pd.read_json('covid_data_current.json')\n",
    "    data_cur['date'] =  pd.to_datetime(data_cur['date'], format='%Y%m%d', errors='ignore')\n",
    "\n",
    "    state_pop = pd.read_csv('SCPRC-EST2019-18+POP-RES.csv')\n",
    "    state_abrev = pd.read_json('state_abrev.json')\n",
    "\n",
    "    return data_ts, data_cur, state_pop, state_abrev\n",
    "\n"
   ]
  },
  {
   "cell_type": "code",
   "execution_count": 3,
   "metadata": {},
   "outputs": [],
   "source": [
    "def normalize(data_ts, data_cur, state_pop, state_abrev):\n",
    "    #load relavent data\n",
    "    pop = state_pop.get(['NAME', 'POPESTIMATE2019'])\n",
    "    cur = data_cur.get(['date','state','positive','negative','death'])\n",
    "    ab = state_abrev\n",
    "    ts = data_ts.get(['date','state','positive','negative','death'])\n",
    "    # Convert date format in daily and current data\n",
    "    #ts['date'] =  pd.to_datetime(ts['date'], format='%Y%m%d', errors='ignore')\n",
    "\n",
    "\n",
    "    # Merge state population data with state abreviations\n",
    "    states = pd.merge(ab, pop, left_on =\"name\", right_on = \"NAME\")\n",
    "\n",
    "    # Merge Population data into current data using state abreviation data\n",
    "\n",
    "    cur = pd.merge(states, cur, left_on = 'abbreviation', right_on = 'state')\n",
    "    cur = cur.get(['date','state','POPESTIMATE2019','positive','negative','death'])\n",
    "    ts = pd.merge(states, ts, left_on = 'abbreviation', right_on = 'state')\n",
    "    ts = ts.get(['date','state','POPESTIMATE2019','positive','negative','death'])\n",
    "    # Merge Population data into daily data using state abreviation data\n",
    "\n",
    "    return ts, cur\n",
    "\n"
   ]
  },
  {
   "cell_type": "code",
   "execution_count": 4,
   "metadata": {},
   "outputs": [],
   "source": [
    "def analyse(cur):\n",
    "    # calculate per 100k for current values\n",
    "    pos_per = cur['positive']/cur['POPESTIMATE2019']*100000\n",
    "    cur['positive per 100k'] = pos_per\n",
    "    neg_per = cur['negative']/cur['POPESTIMATE2019']*100000\n",
    "    cur['negative per 100k'] = neg_per\n",
    "    death_per = cur['death']/cur['POPESTIMATE2019']*100000\n",
    "    cur['death per 100k'] = death_per\n",
    "    death_per_pos = cur['death']/cur['positive']*100\n",
    "    cur['mortality %'] = death_per_pos\n",
    "\n",
    "    return cur\n"
   ]
  },
  {
   "cell_type": "code",
   "execution_count": 5,
   "metadata": {},
   "outputs": [],
   "source": [
    "def analyse_ts(ts):\n",
    "    # calculate per 100k for daily values\n",
    "    pos_per = ts['positive']/ts['POPESTIMATE2019']*100000\n",
    "    ts['positive per 100k'] = pos_per\n",
    "    neg_per = ts['negative']/ts['POPESTIMATE2019']*100000\n",
    "    ts['negative per 100k'] = neg_per\n",
    "    death_per = ts['death']/ts['POPESTIMATE2019']*100000\n",
    "    ts['death per 100k'] = death_per\n",
    "    death_per_pos = ts['death']/ts['positive']*100\n",
    "    ts['mortality %'] = death_per_pos\n",
    "\n",
    "    return ts"
   ]
  },
  {
   "cell_type": "code",
   "execution_count": 6,
   "metadata": {},
   "outputs": [],
   "source": [
    "def output(data_cur, data_ts):\n",
    "\n",
    "    print(data_cur, data_ts)\n",
    "    data_cur.plot.bar(x='state',y=['mortality %', 'death per 100k'], rot=0, figsize = (14, 14), colormap='Dark2')\n",
    "    #plots = {data_ts['date']:(data_ts.query('state == \"FL\"'),data_ts.query('state == \"NY\"'),data_ts.query('state == \"NC\"'))}\n",
    "    #plt.plot([data_ts.query('state == \"FL\"')],[data_ts.query('state == \"NY\"')],[data_ts.query('state == \"NC\"')])\n",
    "    plt.show()\n",
    "\n",
    "\n",
    "    return data_cur, data_ts\n"
   ]
  },
  {
   "cell_type": "code",
   "execution_count": null,
   "metadata": {},
   "outputs": [],
   "source": [
    "def main():\n",
    "    data_ts, data_cur, state_pop, state_abrev = load_data()\n",
    "    ts, cur = normalize(data_ts, data_cur, state_pop, state_abrev)\n",
    "    data_cur = analyse(cur)\n",
    "    data_ts = analyse_ts(ts)\n",
    "\n",
    "    output(data_cur, data_ts)"
   ]
  }
 ],
 "metadata": {
  "kernelspec": {
   "display_name": "Python 3",
   "language": "python",
   "name": "python3"
  },
  "language_info": {
   "codemirror_mode": {
    "name": "ipython",
    "version": 3
   },
   "file_extension": ".py",
   "mimetype": "text/x-python",
   "name": "python",
   "nbconvert_exporter": "python",
   "pygments_lexer": "ipython3",
   "version": "3.7.4"
  }
 },
 "nbformat": 4,
 "nbformat_minor": 2
}
